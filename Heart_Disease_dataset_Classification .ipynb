{
 "cells": [
  {
   "cell_type": "code",
   "execution_count": 46,
   "metadata": {},
   "outputs": [],
   "source": [
    "import numpy as np\n",
    "import pandas as pd\n",
    "import matplotlib.pyplot as plt\n",
    "import seaborn as sns\n",
    "%matplotlib inline\n",
    "\n",
    "import warnings\n",
    "warnings.filterwarnings('ignore')"
   ]
  },
  {
   "cell_type": "code",
   "execution_count": 47,
   "metadata": {},
   "outputs": [],
   "source": [
    "data=pd.read_csv('chd.csv')"
   ]
  },
  {
   "cell_type": "code",
   "execution_count": 48,
   "metadata": {},
   "outputs": [
    {
     "data": {
      "text/html": [
       "<div>\n",
       "<style scoped>\n",
       "    .dataframe tbody tr th:only-of-type {\n",
       "        vertical-align: middle;\n",
       "    }\n",
       "\n",
       "    .dataframe tbody tr th {\n",
       "        vertical-align: top;\n",
       "    }\n",
       "\n",
       "    .dataframe thead th {\n",
       "        text-align: right;\n",
       "    }\n",
       "</style>\n",
       "<table border=\"1\" class=\"dataframe\">\n",
       "  <thead>\n",
       "    <tr style=\"text-align: right;\">\n",
       "      <th></th>\n",
       "      <th>male</th>\n",
       "      <th>age</th>\n",
       "      <th>education</th>\n",
       "      <th>currentSmoker</th>\n",
       "      <th>cigsPerDay</th>\n",
       "      <th>BPMeds</th>\n",
       "      <th>prevalentStroke</th>\n",
       "      <th>prevalentHyp</th>\n",
       "      <th>diabetes</th>\n",
       "      <th>totChol</th>\n",
       "      <th>sysBP</th>\n",
       "      <th>diaBP</th>\n",
       "      <th>BMI</th>\n",
       "      <th>heartRate</th>\n",
       "      <th>glucose</th>\n",
       "      <th>TenYearCHD</th>\n",
       "    </tr>\n",
       "  </thead>\n",
       "  <tbody>\n",
       "    <tr>\n",
       "      <td>0</td>\n",
       "      <td>1</td>\n",
       "      <td>39</td>\n",
       "      <td>4.0</td>\n",
       "      <td>0</td>\n",
       "      <td>0.0</td>\n",
       "      <td>0.0</td>\n",
       "      <td>0</td>\n",
       "      <td>0</td>\n",
       "      <td>0</td>\n",
       "      <td>195.0</td>\n",
       "      <td>106.0</td>\n",
       "      <td>70.0</td>\n",
       "      <td>26.97</td>\n",
       "      <td>80.0</td>\n",
       "      <td>77.0</td>\n",
       "      <td>0</td>\n",
       "    </tr>\n",
       "    <tr>\n",
       "      <td>1</td>\n",
       "      <td>0</td>\n",
       "      <td>46</td>\n",
       "      <td>2.0</td>\n",
       "      <td>0</td>\n",
       "      <td>0.0</td>\n",
       "      <td>0.0</td>\n",
       "      <td>0</td>\n",
       "      <td>0</td>\n",
       "      <td>0</td>\n",
       "      <td>250.0</td>\n",
       "      <td>121.0</td>\n",
       "      <td>81.0</td>\n",
       "      <td>28.73</td>\n",
       "      <td>95.0</td>\n",
       "      <td>76.0</td>\n",
       "      <td>0</td>\n",
       "    </tr>\n",
       "    <tr>\n",
       "      <td>2</td>\n",
       "      <td>1</td>\n",
       "      <td>48</td>\n",
       "      <td>1.0</td>\n",
       "      <td>1</td>\n",
       "      <td>20.0</td>\n",
       "      <td>0.0</td>\n",
       "      <td>0</td>\n",
       "      <td>0</td>\n",
       "      <td>0</td>\n",
       "      <td>245.0</td>\n",
       "      <td>127.5</td>\n",
       "      <td>80.0</td>\n",
       "      <td>25.34</td>\n",
       "      <td>75.0</td>\n",
       "      <td>70.0</td>\n",
       "      <td>0</td>\n",
       "    </tr>\n",
       "    <tr>\n",
       "      <td>3</td>\n",
       "      <td>0</td>\n",
       "      <td>61</td>\n",
       "      <td>3.0</td>\n",
       "      <td>1</td>\n",
       "      <td>30.0</td>\n",
       "      <td>0.0</td>\n",
       "      <td>0</td>\n",
       "      <td>1</td>\n",
       "      <td>0</td>\n",
       "      <td>225.0</td>\n",
       "      <td>150.0</td>\n",
       "      <td>95.0</td>\n",
       "      <td>28.58</td>\n",
       "      <td>65.0</td>\n",
       "      <td>103.0</td>\n",
       "      <td>1</td>\n",
       "    </tr>\n",
       "    <tr>\n",
       "      <td>4</td>\n",
       "      <td>0</td>\n",
       "      <td>46</td>\n",
       "      <td>3.0</td>\n",
       "      <td>1</td>\n",
       "      <td>23.0</td>\n",
       "      <td>0.0</td>\n",
       "      <td>0</td>\n",
       "      <td>0</td>\n",
       "      <td>0</td>\n",
       "      <td>285.0</td>\n",
       "      <td>130.0</td>\n",
       "      <td>84.0</td>\n",
       "      <td>23.10</td>\n",
       "      <td>85.0</td>\n",
       "      <td>85.0</td>\n",
       "      <td>0</td>\n",
       "    </tr>\n",
       "  </tbody>\n",
       "</table>\n",
       "</div>"
      ],
      "text/plain": [
       "   male  age  education  currentSmoker  cigsPerDay  BPMeds  prevalentStroke  \\\n",
       "0     1   39        4.0              0         0.0     0.0                0   \n",
       "1     0   46        2.0              0         0.0     0.0                0   \n",
       "2     1   48        1.0              1        20.0     0.0                0   \n",
       "3     0   61        3.0              1        30.0     0.0                0   \n",
       "4     0   46        3.0              1        23.0     0.0                0   \n",
       "\n",
       "   prevalentHyp  diabetes  totChol  sysBP  diaBP    BMI  heartRate  glucose  \\\n",
       "0             0         0    195.0  106.0   70.0  26.97       80.0     77.0   \n",
       "1             0         0    250.0  121.0   81.0  28.73       95.0     76.0   \n",
       "2             0         0    245.0  127.5   80.0  25.34       75.0     70.0   \n",
       "3             1         0    225.0  150.0   95.0  28.58       65.0    103.0   \n",
       "4             0         0    285.0  130.0   84.0  23.10       85.0     85.0   \n",
       "\n",
       "   TenYearCHD  \n",
       "0           0  \n",
       "1           0  \n",
       "2           0  \n",
       "3           1  \n",
       "4           0  "
      ]
     },
     "execution_count": 48,
     "metadata": {},
     "output_type": "execute_result"
    }
   ],
   "source": [
    "data.head()"
   ]
  },
  {
   "cell_type": "code",
   "execution_count": 49,
   "metadata": {},
   "outputs": [
    {
     "data": {
      "text/plain": [
       "male                 0\n",
       "age                  0\n",
       "education          105\n",
       "currentSmoker        0\n",
       "cigsPerDay          29\n",
       "BPMeds              53\n",
       "prevalentStroke      0\n",
       "prevalentHyp         0\n",
       "diabetes             0\n",
       "totChol             50\n",
       "sysBP                0\n",
       "diaBP                0\n",
       "BMI                 19\n",
       "heartRate            1\n",
       "glucose            388\n",
       "TenYearCHD           0\n",
       "dtype: int64"
      ]
     },
     "execution_count": 49,
     "metadata": {},
     "output_type": "execute_result"
    }
   ],
   "source": [
    "data.isnull().sum()"
   ]
  },
  {
   "cell_type": "code",
   "execution_count": 50,
   "metadata": {},
   "outputs": [
    {
     "name": "stdout",
     "output_type": "stream",
     "text": [
      "<class 'pandas.core.frame.DataFrame'>\n",
      "RangeIndex: 4240 entries, 0 to 4239\n",
      "Data columns (total 16 columns):\n",
      "male               4240 non-null int64\n",
      "age                4240 non-null int64\n",
      "education          4135 non-null float64\n",
      "currentSmoker      4240 non-null int64\n",
      "cigsPerDay         4211 non-null float64\n",
      "BPMeds             4187 non-null float64\n",
      "prevalentStroke    4240 non-null int64\n",
      "prevalentHyp       4240 non-null int64\n",
      "diabetes           4240 non-null int64\n",
      "totChol            4190 non-null float64\n",
      "sysBP              4240 non-null float64\n",
      "diaBP              4240 non-null float64\n",
      "BMI                4221 non-null float64\n",
      "heartRate          4239 non-null float64\n",
      "glucose            3852 non-null float64\n",
      "TenYearCHD         4240 non-null int64\n",
      "dtypes: float64(9), int64(7)\n",
      "memory usage: 530.1 KB\n"
     ]
    }
   ],
   "source": [
    "data.info()"
   ]
  },
  {
   "cell_type": "markdown",
   "metadata": {},
   "source": [
    "### Data-Preprocessing"
   ]
  },
  {
   "cell_type": "code",
   "execution_count": 51,
   "metadata": {},
   "outputs": [],
   "source": [
    "from sklearn.preprocessing import LabelEncoder"
   ]
  },
  {
   "cell_type": "code",
   "execution_count": 52,
   "metadata": {},
   "outputs": [],
   "source": [
    "Le=LabelEncoder()"
   ]
  },
  {
   "cell_type": "code",
   "execution_count": 53,
   "metadata": {},
   "outputs": [
    {
     "data": {
      "text/plain": [
       "count    4135.000000\n",
       "mean        1.979444\n",
       "std         1.019791\n",
       "min         1.000000\n",
       "25%         1.000000\n",
       "50%         2.000000\n",
       "75%         3.000000\n",
       "max         4.000000\n",
       "Name: education, dtype: float64"
      ]
     },
     "execution_count": 53,
     "metadata": {},
     "output_type": "execute_result"
    }
   ],
   "source": [
    "data['education'].describe()"
   ]
  },
  {
   "cell_type": "code",
   "execution_count": 54,
   "metadata": {},
   "outputs": [
    {
     "data": {
      "text/plain": [
       "array([ 4.,  2.,  1.,  3., nan])"
      ]
     },
     "execution_count": 54,
     "metadata": {},
     "output_type": "execute_result"
    }
   ],
   "source": [
    "data['education'].unique()"
   ]
  },
  {
   "cell_type": "code",
   "execution_count": 55,
   "metadata": {},
   "outputs": [],
   "source": [
    "# Replacivng the nan column with median of values\n",
    "data['education']=Le.fit_transform(data['education'])"
   ]
  },
  {
   "cell_type": "code",
   "execution_count": 56,
   "metadata": {},
   "outputs": [
    {
     "data": {
      "text/plain": [
       "array([  3,   1,   0,   2,  29,  26,  41,  40,  91,  86,  89,  90,  92,\n",
       "       102, 105,  73,  50,  54,  55,  69,  67,  66,  62,  52,  46,  97,\n",
       "       107,  85,  84,  77,  16,  32,  25,  21,  22,  31,  10,  17,  34,\n",
       "        39,   9,   8,  11,  38,  35,  37,  15,  78,  96,  98, 100, 104,\n",
       "        76,  74,  47,  58,  60,  63,  64,  70,  71,  61,  59,  56,  49,\n",
       "        75, 101,  99,  95,  88,  82,  80,  79,  43,  36,  33,  24,  23,\n",
       "        20,  18,   7,   4,   6, 108,  12,  19,  30,   5,  81,  83,  65,\n",
       "        68,  72,  57,  53,  51,  45, 103,  13,  14,  27,  28,  44,  42,\n",
       "        48, 106,  94,  93,  87], dtype=int64)"
      ]
     },
     "execution_count": 56,
     "metadata": {},
     "output_type": "execute_result"
    }
   ],
   "source": [
    "data['education'].unique()"
   ]
  },
  {
   "cell_type": "code",
   "execution_count": 57,
   "metadata": {},
   "outputs": [
    {
     "data": {
      "text/plain": [
       "array([ 0., 20., 30., 23., 15.,  9., 10.,  5., 35., 43.,  1., 40.,  3.,\n",
       "        2., nan, 12.,  4., 18., 25., 60., 14., 45.,  8., 50., 13., 11.,\n",
       "        7.,  6., 38., 29., 17., 16., 19., 70.])"
      ]
     },
     "execution_count": 57,
     "metadata": {},
     "output_type": "execute_result"
    }
   ],
   "source": [
    "data['cigsPerDay'].unique()"
   ]
  },
  {
   "cell_type": "code",
   "execution_count": 58,
   "metadata": {},
   "outputs": [
    {
     "data": {
      "text/plain": [
       "count    4211.000000\n",
       "mean        9.005937\n",
       "std        11.922462\n",
       "min         0.000000\n",
       "25%         0.000000\n",
       "50%         0.000000\n",
       "75%        20.000000\n",
       "max        70.000000\n",
       "Name: cigsPerDay, dtype: float64"
      ]
     },
     "execution_count": 58,
     "metadata": {},
     "output_type": "execute_result"
    }
   ],
   "source": [
    "data['cigsPerDay'].describe()"
   ]
  },
  {
   "cell_type": "code",
   "execution_count": 59,
   "metadata": {},
   "outputs": [],
   "source": [
    "# Replacivng the nan column with median of values\n",
    "data['cigsPerDay']=Le.fit_transform(data['cigsPerDay'])"
   ]
  },
  {
   "cell_type": "code",
   "execution_count": 60,
   "metadata": {},
   "outputs": [
    {
     "data": {
      "text/plain": [
       "array([ 0, 20, 24, 21, 15,  9, 10,  5, 25, 28,  1, 27,  3,  2, 57, 35, 12,\n",
       "        4, 18, 22, 31, 14, 29,  8, 30, 13, 11,  7,  6, 48, 52, 26, 40, 51,\n",
       "       36, 23, 42, 41, 17, 46, 54, 49, 59, 16, 34, 39, 19, 32, 56, 47, 45,\n",
       "       33, 60, 38, 50, 53, 58, 44, 61, 55, 37, 43], dtype=int64)"
      ]
     },
     "execution_count": 60,
     "metadata": {},
     "output_type": "execute_result"
    }
   ],
   "source": [
    "data['cigsPerDay'].unique()"
   ]
  },
  {
   "cell_type": "code",
   "execution_count": 61,
   "metadata": {},
   "outputs": [
    {
     "data": {
      "text/plain": [
       "array([ 0.,  1., nan])"
      ]
     },
     "execution_count": 61,
     "metadata": {},
     "output_type": "execute_result"
    }
   ],
   "source": [
    "data['BPMeds'].unique()"
   ]
  },
  {
   "cell_type": "code",
   "execution_count": 62,
   "metadata": {},
   "outputs": [
    {
     "data": {
      "text/plain": [
       "0.0"
      ]
     },
     "execution_count": 62,
     "metadata": {},
     "output_type": "execute_result"
    }
   ],
   "source": [
    "data['BPMeds'].median()"
   ]
  },
  {
   "cell_type": "code",
   "execution_count": 63,
   "metadata": {},
   "outputs": [],
   "source": [
    "# Replacivng the nan column with median of values\n",
    "data['BPMeds']=Le.fit_transform(data['BPMeds'])"
   ]
  },
  {
   "cell_type": "code",
   "execution_count": 64,
   "metadata": {},
   "outputs": [
    {
     "data": {
      "text/plain": [
       "array([195., 250., 245., 225., 285., 228., 205., 313., 260., 254., 247.,\n",
       "       294., 332., 226., 221., 232., 291., 190., 185., 234., 215., 270.,\n",
       "       272., 295., 209., 175., 214., 257., 178., 233., 180., 243., 237.,\n",
       "        nan, 311., 208., 252., 261., 179., 194., 267., 216., 240., 266.,\n",
       "       255., 220., 235., 212., 223., 300., 302., 248., 200., 189., 258.,\n",
       "       202., 213., 183., 274., 170., 210., 197., 326., 188., 256., 244.,\n",
       "       193., 239., 296., 269., 275., 268., 265., 173., 273., 290., 278.,\n",
       "       264., 282., 241., 288., 222., 303., 246., 150., 187., 286., 154.,\n",
       "       279., 293., 259., 219., 230., 320., 312., 165., 159., 174., 242.,\n",
       "       301., 167., 308., 325., 229., 236., 224., 253., 464., 171., 186.,\n",
       "       227., 249., 176., 163., 191., 263., 196., 310., 164., 135., 238.,\n",
       "       207., 342., 287., 182., 352., 284., 217., 203., 262., 129., 155.,\n",
       "       323., 206., 283., 319., 304., 340., 328., 280., 368., 218., 276.,\n",
       "       339., 231., 198., 177., 201., 277., 184., 199., 168., 292., 305.,\n",
       "       306., 152., 161., 181., 251., 271., 370., 439., 145., 330., 157.,\n",
       "       398., 162., 314., 166., 160., 281., 289., 355., 307., 156., 329.,\n",
       "       143., 211., 298., 334., 192., 204., 318., 309., 353., 360., 335.,\n",
       "       158., 372., 346., 169., 140., 324., 600., 315., 392., 322., 149.,\n",
       "       137., 172., 317., 358., 153., 345., 391., 410., 297., 356., 338.,\n",
       "       107., 148., 366., 333., 327., 344., 126., 365., 362., 316., 144.,\n",
       "       351., 390., 321., 405., 359., 350., 336., 380., 299., 124., 371.,\n",
       "       113., 354., 382., 364., 341., 133., 367., 432., 337., 696., 363.,\n",
       "       331., 361., 453., 347., 373., 385., 119.])"
      ]
     },
     "execution_count": 64,
     "metadata": {},
     "output_type": "execute_result"
    }
   ],
   "source": [
    "data['totChol'].unique()"
   ]
  },
  {
   "cell_type": "code",
   "execution_count": 65,
   "metadata": {},
   "outputs": [],
   "source": [
    "# Replacivng the nan column with median of values\n",
    "data['totChol']=Le.fit_transform(data['totChol'])"
   ]
  },
  {
   "cell_type": "code",
   "execution_count": 66,
   "metadata": {},
   "outputs": [
    {
     "data": {
      "text/plain": [
       "array([26.97, 28.73, 25.34, ..., 26.7 , 43.67, 20.91])"
      ]
     },
     "execution_count": 66,
     "metadata": {},
     "output_type": "execute_result"
    }
   ],
   "source": [
    "data['BMI'].unique()"
   ]
  },
  {
   "cell_type": "code",
   "execution_count": 67,
   "metadata": {},
   "outputs": [
    {
     "data": {
      "text/plain": [
       "26.0"
      ]
     },
     "execution_count": 67,
     "metadata": {},
     "output_type": "execute_result"
    }
   ],
   "source": [
    "round(data['BMI'].mean(),0)"
   ]
  },
  {
   "cell_type": "code",
   "execution_count": 68,
   "metadata": {},
   "outputs": [],
   "source": [
    "# Replacivng the nan column with median of values\n",
    "data['BMI']=Le.fit_transform(data['BMI'])"
   ]
  },
  {
   "cell_type": "code",
   "execution_count": 69,
   "metadata": {},
   "outputs": [
    {
     "data": {
      "text/plain": [
       "array([ 80.,  95.,  75.,  65.,  85.,  77.,  60.,  79.,  76.,  93.,  72.,\n",
       "        98.,  64.,  70.,  71.,  62.,  73.,  90.,  96.,  68.,  63.,  88.,\n",
       "        78.,  83., 100.,  67.,  84.,  57.,  50.,  74.,  86.,  55.,  92.,\n",
       "        66.,  87., 110.,  81.,  56.,  89.,  82.,  48., 105.,  61.,  54.,\n",
       "        69.,  52.,  94., 140., 130.,  58., 108., 104.,  91.,  53.,  nan,\n",
       "       106.,  59.,  51., 102., 107., 112., 125., 103.,  44.,  47.,  45.,\n",
       "        97., 122., 120.,  99., 115., 143., 101.,  46.])"
      ]
     },
     "execution_count": 69,
     "metadata": {},
     "output_type": "execute_result"
    }
   ],
   "source": [
    "data['heartRate'].unique()"
   ]
  },
  {
   "cell_type": "code",
   "execution_count": 70,
   "metadata": {},
   "outputs": [
    {
     "data": {
      "text/plain": [
       "76.0"
      ]
     },
     "execution_count": 70,
     "metadata": {},
     "output_type": "execute_result"
    }
   ],
   "source": [
    "round(data['heartRate'].mean(),0)"
   ]
  },
  {
   "cell_type": "code",
   "execution_count": 71,
   "metadata": {},
   "outputs": [],
   "source": [
    "# Replacivng the nan column with median of values\n",
    "data['heartRate']=Le.fit_transform(data['heartRate'])"
   ]
  },
  {
   "cell_type": "code",
   "execution_count": 72,
   "metadata": {},
   "outputs": [
    {
     "data": {
      "text/plain": [
       "array([ 77.,  76.,  70., 103.,  85.,  99.,  78.,  79.,  88.,  61.,  64.,\n",
       "        84.,  nan,  72.,  89.,  65., 113.,  75.,  83.,  66.,  74.,  63.,\n",
       "        87., 225.,  90.,  80., 100., 215.,  98.,  62.,  95.,  94.,  55.,\n",
       "        82.,  93.,  73.,  45., 202.,  68.,  97., 104.,  96., 126., 120.,\n",
       "       105.,  71.,  56.,  60., 117., 102.,  58.,  92., 109.,  86., 107.,\n",
       "        54.,  67.,  69.,  57.,  91., 132., 150.,  59.,  81., 115., 140.,\n",
       "       112., 118., 143., 114., 160., 110., 123., 108., 145., 122., 137.,\n",
       "       106., 127., 205., 130., 101.,  47.,  53., 216., 163., 144., 116.,\n",
       "       121., 172., 124., 111.,  40., 186., 223., 325.,  44., 156., 268.,\n",
       "        50., 274., 292., 255., 136., 206., 131., 148., 297.,  43., 173.,\n",
       "        48., 386., 155., 147., 170.,  52., 320., 254., 394., 270., 244.,\n",
       "       183., 142., 119., 135., 167., 207., 129., 177., 250., 294., 166.,\n",
       "       125., 332., 368., 348., 248., 370., 193., 191., 256., 235., 210.,\n",
       "       260.])"
      ]
     },
     "execution_count": 72,
     "metadata": {},
     "output_type": "execute_result"
    }
   ],
   "source": [
    "data['glucose'].unique()"
   ]
  },
  {
   "cell_type": "code",
   "execution_count": 73,
   "metadata": {},
   "outputs": [
    {
     "data": {
      "text/plain": [
       "82.0"
      ]
     },
     "execution_count": 73,
     "metadata": {},
     "output_type": "execute_result"
    }
   ],
   "source": [
    "round(data['glucose'].mean(),0)"
   ]
  },
  {
   "cell_type": "code",
   "execution_count": 74,
   "metadata": {},
   "outputs": [],
   "source": [
    "# Replacivng the nan column with median of values\n",
    "data['glucose']=Le.fit_transform(data['glucose'])"
   ]
  },
  {
   "cell_type": "code",
   "execution_count": 75,
   "metadata": {},
   "outputs": [
    {
     "name": "stdout",
     "output_type": "stream",
     "text": [
      "<class 'pandas.core.frame.DataFrame'>\n",
      "RangeIndex: 4240 entries, 0 to 4239\n",
      "Data columns (total 16 columns):\n",
      "male               4240 non-null int64\n",
      "age                4240 non-null int64\n",
      "education          4240 non-null int64\n",
      "currentSmoker      4240 non-null int64\n",
      "cigsPerDay         4240 non-null int64\n",
      "BPMeds             4240 non-null int64\n",
      "prevalentStroke    4240 non-null int64\n",
      "prevalentHyp       4240 non-null int64\n",
      "diabetes           4240 non-null int64\n",
      "totChol            4240 non-null int64\n",
      "sysBP              4240 non-null float64\n",
      "diaBP              4240 non-null float64\n",
      "BMI                4240 non-null int64\n",
      "heartRate          4240 non-null int64\n",
      "glucose            4240 non-null int64\n",
      "TenYearCHD         4240 non-null int64\n",
      "dtypes: float64(2), int64(14)\n",
      "memory usage: 530.1 KB\n"
     ]
    }
   ],
   "source": [
    "data.info()"
   ]
  },
  {
   "cell_type": "code",
   "execution_count": 76,
   "metadata": {},
   "outputs": [
    {
     "data": {
      "text/plain": [
       "male               0\n",
       "age                0\n",
       "education          0\n",
       "currentSmoker      0\n",
       "cigsPerDay         0\n",
       "BPMeds             0\n",
       "prevalentStroke    0\n",
       "prevalentHyp       0\n",
       "diabetes           0\n",
       "totChol            0\n",
       "sysBP              0\n",
       "diaBP              0\n",
       "BMI                0\n",
       "heartRate          0\n",
       "glucose            0\n",
       "TenYearCHD         0\n",
       "dtype: int64"
      ]
     },
     "execution_count": 76,
     "metadata": {},
     "output_type": "execute_result"
    }
   ],
   "source": [
    "data.isnull().sum()"
   ]
  },
  {
   "cell_type": "code",
   "execution_count": 77,
   "metadata": {},
   "outputs": [
    {
     "data": {
      "text/html": [
       "<div>\n",
       "<style scoped>\n",
       "    .dataframe tbody tr th:only-of-type {\n",
       "        vertical-align: middle;\n",
       "    }\n",
       "\n",
       "    .dataframe tbody tr th {\n",
       "        vertical-align: top;\n",
       "    }\n",
       "\n",
       "    .dataframe thead th {\n",
       "        text-align: right;\n",
       "    }\n",
       "</style>\n",
       "<table border=\"1\" class=\"dataframe\">\n",
       "  <thead>\n",
       "    <tr style=\"text-align: right;\">\n",
       "      <th></th>\n",
       "      <th>male</th>\n",
       "      <th>age</th>\n",
       "      <th>education</th>\n",
       "      <th>currentSmoker</th>\n",
       "      <th>cigsPerDay</th>\n",
       "      <th>BPMeds</th>\n",
       "      <th>prevalentStroke</th>\n",
       "      <th>prevalentHyp</th>\n",
       "      <th>diabetes</th>\n",
       "      <th>totChol</th>\n",
       "      <th>sysBP</th>\n",
       "      <th>diaBP</th>\n",
       "      <th>BMI</th>\n",
       "      <th>heartRate</th>\n",
       "      <th>glucose</th>\n",
       "      <th>TenYearCHD</th>\n",
       "    </tr>\n",
       "  </thead>\n",
       "  <tbody>\n",
       "    <tr>\n",
       "      <td>male</td>\n",
       "      <td>1.000000</td>\n",
       "      <td>-0.029014</td>\n",
       "      <td>0.027478</td>\n",
       "      <td>0.197026</td>\n",
       "      <td>0.293369</td>\n",
       "      <td>-0.046591</td>\n",
       "      <td>-0.004550</td>\n",
       "      <td>0.005853</td>\n",
       "      <td>0.015693</td>\n",
       "      <td>-0.091655</td>\n",
       "      <td>-0.035879</td>\n",
       "      <td>0.058199</td>\n",
       "      <td>0.112169</td>\n",
       "      <td>-0.115553</td>\n",
       "      <td>-0.073529</td>\n",
       "      <td>0.088374</td>\n",
       "    </tr>\n",
       "    <tr>\n",
       "      <td>age</td>\n",
       "      <td>-0.029014</td>\n",
       "      <td>1.000000</td>\n",
       "      <td>-0.002419</td>\n",
       "      <td>-0.213662</td>\n",
       "      <td>-0.197056</td>\n",
       "      <td>0.052726</td>\n",
       "      <td>0.057679</td>\n",
       "      <td>0.306799</td>\n",
       "      <td>0.101314</td>\n",
       "      <td>0.256588</td>\n",
       "      <td>0.394053</td>\n",
       "      <td>0.205586</td>\n",
       "      <td>0.140962</td>\n",
       "      <td>-0.012453</td>\n",
       "      <td>0.003438</td>\n",
       "      <td>0.225408</td>\n",
       "    </tr>\n",
       "    <tr>\n",
       "      <td>education</td>\n",
       "      <td>0.027478</td>\n",
       "      <td>-0.002419</td>\n",
       "      <td>1.000000</td>\n",
       "      <td>0.004052</td>\n",
       "      <td>0.011606</td>\n",
       "      <td>-0.013387</td>\n",
       "      <td>-0.014256</td>\n",
       "      <td>-0.011257</td>\n",
       "      <td>-0.008824</td>\n",
       "      <td>-0.009981</td>\n",
       "      <td>-0.017355</td>\n",
       "      <td>0.003028</td>\n",
       "      <td>0.026772</td>\n",
       "      <td>-0.027917</td>\n",
       "      <td>-0.010561</td>\n",
       "      <td>0.000118</td>\n",
       "    </tr>\n",
       "    <tr>\n",
       "      <td>currentSmoker</td>\n",
       "      <td>0.197026</td>\n",
       "      <td>-0.213662</td>\n",
       "      <td>0.004052</td>\n",
       "      <td>1.000000</td>\n",
       "      <td>0.818153</td>\n",
       "      <td>-0.021722</td>\n",
       "      <td>-0.032980</td>\n",
       "      <td>-0.103710</td>\n",
       "      <td>-0.044285</td>\n",
       "      <td>-0.034300</td>\n",
       "      <td>-0.130281</td>\n",
       "      <td>-0.107933</td>\n",
       "      <td>-0.173763</td>\n",
       "      <td>0.065809</td>\n",
       "      <td>0.011883</td>\n",
       "      <td>0.019448</td>\n",
       "    </tr>\n",
       "    <tr>\n",
       "      <td>cigsPerDay</td>\n",
       "      <td>0.293369</td>\n",
       "      <td>-0.197056</td>\n",
       "      <td>0.011606</td>\n",
       "      <td>0.818153</td>\n",
       "      <td>1.000000</td>\n",
       "      <td>-0.019699</td>\n",
       "      <td>-0.032533</td>\n",
       "      <td>-0.083484</td>\n",
       "      <td>-0.038050</td>\n",
       "      <td>-0.018319</td>\n",
       "      <td>-0.099863</td>\n",
       "      <td>-0.069638</td>\n",
       "      <td>-0.117987</td>\n",
       "      <td>0.080362</td>\n",
       "      <td>0.000121</td>\n",
       "      <td>0.043111</td>\n",
       "    </tr>\n",
       "    <tr>\n",
       "      <td>BPMeds</td>\n",
       "      <td>-0.046591</td>\n",
       "      <td>0.052726</td>\n",
       "      <td>-0.013387</td>\n",
       "      <td>-0.021722</td>\n",
       "      <td>-0.019699</td>\n",
       "      <td>1.000000</td>\n",
       "      <td>0.007390</td>\n",
       "      <td>0.036101</td>\n",
       "      <td>0.016225</td>\n",
       "      <td>0.014783</td>\n",
       "      <td>0.040330</td>\n",
       "      <td>0.026905</td>\n",
       "      <td>-0.005533</td>\n",
       "      <td>0.004733</td>\n",
       "      <td>-0.017797</td>\n",
       "      <td>0.023458</td>\n",
       "    </tr>\n",
       "    <tr>\n",
       "      <td>prevalentStroke</td>\n",
       "      <td>-0.004550</td>\n",
       "      <td>0.057679</td>\n",
       "      <td>-0.014256</td>\n",
       "      <td>-0.032980</td>\n",
       "      <td>-0.032533</td>\n",
       "      <td>0.007390</td>\n",
       "      <td>1.000000</td>\n",
       "      <td>0.074791</td>\n",
       "      <td>0.006955</td>\n",
       "      <td>-0.000923</td>\n",
       "      <td>0.057000</td>\n",
       "      <td>0.045153</td>\n",
       "      <td>0.025354</td>\n",
       "      <td>-0.017671</td>\n",
       "      <td>-0.012393</td>\n",
       "      <td>0.061823</td>\n",
       "    </tr>\n",
       "    <tr>\n",
       "      <td>prevalentHyp</td>\n",
       "      <td>0.005853</td>\n",
       "      <td>0.306799</td>\n",
       "      <td>-0.011257</td>\n",
       "      <td>-0.103710</td>\n",
       "      <td>-0.083484</td>\n",
       "      <td>0.036101</td>\n",
       "      <td>0.074791</td>\n",
       "      <td>1.000000</td>\n",
       "      <td>0.077752</td>\n",
       "      <td>0.147036</td>\n",
       "      <td>0.696656</td>\n",
       "      <td>0.615840</td>\n",
       "      <td>0.292129</td>\n",
       "      <td>0.147978</td>\n",
       "      <td>0.000561</td>\n",
       "      <td>0.177458</td>\n",
       "    </tr>\n",
       "    <tr>\n",
       "      <td>diabetes</td>\n",
       "      <td>0.015693</td>\n",
       "      <td>0.101314</td>\n",
       "      <td>-0.008824</td>\n",
       "      <td>-0.044285</td>\n",
       "      <td>-0.038050</td>\n",
       "      <td>0.016225</td>\n",
       "      <td>0.006955</td>\n",
       "      <td>0.077752</td>\n",
       "      <td>1.000000</td>\n",
       "      <td>0.028998</td>\n",
       "      <td>0.111265</td>\n",
       "      <td>0.050260</td>\n",
       "      <td>0.081077</td>\n",
       "      <td>0.049459</td>\n",
       "      <td>0.062889</td>\n",
       "      <td>0.097344</td>\n",
       "    </tr>\n",
       "    <tr>\n",
       "      <td>totChol</td>\n",
       "      <td>-0.091655</td>\n",
       "      <td>0.256588</td>\n",
       "      <td>-0.009981</td>\n",
       "      <td>-0.034300</td>\n",
       "      <td>-0.018319</td>\n",
       "      <td>0.014783</td>\n",
       "      <td>-0.000923</td>\n",
       "      <td>0.147036</td>\n",
       "      <td>0.028998</td>\n",
       "      <td>1.000000</td>\n",
       "      <td>0.196989</td>\n",
       "      <td>0.153564</td>\n",
       "      <td>0.126514</td>\n",
       "      <td>0.089632</td>\n",
       "      <td>0.089750</td>\n",
       "      <td>0.076507</td>\n",
       "    </tr>\n",
       "    <tr>\n",
       "      <td>sysBP</td>\n",
       "      <td>-0.035879</td>\n",
       "      <td>0.394053</td>\n",
       "      <td>-0.017355</td>\n",
       "      <td>-0.130281</td>\n",
       "      <td>-0.099863</td>\n",
       "      <td>0.040330</td>\n",
       "      <td>0.057000</td>\n",
       "      <td>0.696656</td>\n",
       "      <td>0.111265</td>\n",
       "      <td>0.196989</td>\n",
       "      <td>1.000000</td>\n",
       "      <td>0.783952</td>\n",
       "      <td>0.309051</td>\n",
       "      <td>0.183667</td>\n",
       "      <td>0.004851</td>\n",
       "      <td>0.216374</td>\n",
       "    </tr>\n",
       "    <tr>\n",
       "      <td>diaBP</td>\n",
       "      <td>0.058199</td>\n",
       "      <td>0.205586</td>\n",
       "      <td>0.003028</td>\n",
       "      <td>-0.107933</td>\n",
       "      <td>-0.069638</td>\n",
       "      <td>0.026905</td>\n",
       "      <td>0.045153</td>\n",
       "      <td>0.615840</td>\n",
       "      <td>0.050260</td>\n",
       "      <td>0.153564</td>\n",
       "      <td>0.783952</td>\n",
       "      <td>1.000000</td>\n",
       "      <td>0.361721</td>\n",
       "      <td>0.181874</td>\n",
       "      <td>-0.001176</td>\n",
       "      <td>0.145112</td>\n",
       "    </tr>\n",
       "    <tr>\n",
       "      <td>BMI</td>\n",
       "      <td>0.112169</td>\n",
       "      <td>0.140962</td>\n",
       "      <td>0.026772</td>\n",
       "      <td>-0.173763</td>\n",
       "      <td>-0.117987</td>\n",
       "      <td>-0.005533</td>\n",
       "      <td>0.025354</td>\n",
       "      <td>0.292129</td>\n",
       "      <td>0.081077</td>\n",
       "      <td>0.126514</td>\n",
       "      <td>0.309051</td>\n",
       "      <td>0.361721</td>\n",
       "      <td>1.000000</td>\n",
       "      <td>0.059147</td>\n",
       "      <td>0.008083</td>\n",
       "      <td>0.083591</td>\n",
       "    </tr>\n",
       "    <tr>\n",
       "      <td>heartRate</td>\n",
       "      <td>-0.115553</td>\n",
       "      <td>-0.012453</td>\n",
       "      <td>-0.027917</td>\n",
       "      <td>0.065809</td>\n",
       "      <td>0.080362</td>\n",
       "      <td>0.004733</td>\n",
       "      <td>-0.017671</td>\n",
       "      <td>0.147978</td>\n",
       "      <td>0.049459</td>\n",
       "      <td>0.089632</td>\n",
       "      <td>0.183667</td>\n",
       "      <td>0.181874</td>\n",
       "      <td>0.059147</td>\n",
       "      <td>1.000000</td>\n",
       "      <td>0.065053</td>\n",
       "      <td>0.025234</td>\n",
       "    </tr>\n",
       "    <tr>\n",
       "      <td>glucose</td>\n",
       "      <td>-0.073529</td>\n",
       "      <td>0.003438</td>\n",
       "      <td>-0.010561</td>\n",
       "      <td>0.011883</td>\n",
       "      <td>0.000121</td>\n",
       "      <td>-0.017797</td>\n",
       "      <td>-0.012393</td>\n",
       "      <td>0.000561</td>\n",
       "      <td>0.062889</td>\n",
       "      <td>0.089750</td>\n",
       "      <td>0.004851</td>\n",
       "      <td>-0.001176</td>\n",
       "      <td>0.008083</td>\n",
       "      <td>0.065053</td>\n",
       "      <td>1.000000</td>\n",
       "      <td>0.008033</td>\n",
       "    </tr>\n",
       "    <tr>\n",
       "      <td>TenYearCHD</td>\n",
       "      <td>0.088374</td>\n",
       "      <td>0.225408</td>\n",
       "      <td>0.000118</td>\n",
       "      <td>0.019448</td>\n",
       "      <td>0.043111</td>\n",
       "      <td>0.023458</td>\n",
       "      <td>0.061823</td>\n",
       "      <td>0.177458</td>\n",
       "      <td>0.097344</td>\n",
       "      <td>0.076507</td>\n",
       "      <td>0.216374</td>\n",
       "      <td>0.145112</td>\n",
       "      <td>0.083591</td>\n",
       "      <td>0.025234</td>\n",
       "      <td>0.008033</td>\n",
       "      <td>1.000000</td>\n",
       "    </tr>\n",
       "  </tbody>\n",
       "</table>\n",
       "</div>"
      ],
      "text/plain": [
       "                     male       age  education  currentSmoker  cigsPerDay  \\\n",
       "male             1.000000 -0.029014   0.027478       0.197026    0.293369   \n",
       "age             -0.029014  1.000000  -0.002419      -0.213662   -0.197056   \n",
       "education        0.027478 -0.002419   1.000000       0.004052    0.011606   \n",
       "currentSmoker    0.197026 -0.213662   0.004052       1.000000    0.818153   \n",
       "cigsPerDay       0.293369 -0.197056   0.011606       0.818153    1.000000   \n",
       "BPMeds          -0.046591  0.052726  -0.013387      -0.021722   -0.019699   \n",
       "prevalentStroke -0.004550  0.057679  -0.014256      -0.032980   -0.032533   \n",
       "prevalentHyp     0.005853  0.306799  -0.011257      -0.103710   -0.083484   \n",
       "diabetes         0.015693  0.101314  -0.008824      -0.044285   -0.038050   \n",
       "totChol         -0.091655  0.256588  -0.009981      -0.034300   -0.018319   \n",
       "sysBP           -0.035879  0.394053  -0.017355      -0.130281   -0.099863   \n",
       "diaBP            0.058199  0.205586   0.003028      -0.107933   -0.069638   \n",
       "BMI              0.112169  0.140962   0.026772      -0.173763   -0.117987   \n",
       "heartRate       -0.115553 -0.012453  -0.027917       0.065809    0.080362   \n",
       "glucose         -0.073529  0.003438  -0.010561       0.011883    0.000121   \n",
       "TenYearCHD       0.088374  0.225408   0.000118       0.019448    0.043111   \n",
       "\n",
       "                   BPMeds  prevalentStroke  prevalentHyp  diabetes   totChol  \\\n",
       "male            -0.046591        -0.004550      0.005853  0.015693 -0.091655   \n",
       "age              0.052726         0.057679      0.306799  0.101314  0.256588   \n",
       "education       -0.013387        -0.014256     -0.011257 -0.008824 -0.009981   \n",
       "currentSmoker   -0.021722        -0.032980     -0.103710 -0.044285 -0.034300   \n",
       "cigsPerDay      -0.019699        -0.032533     -0.083484 -0.038050 -0.018319   \n",
       "BPMeds           1.000000         0.007390      0.036101  0.016225  0.014783   \n",
       "prevalentStroke  0.007390         1.000000      0.074791  0.006955 -0.000923   \n",
       "prevalentHyp     0.036101         0.074791      1.000000  0.077752  0.147036   \n",
       "diabetes         0.016225         0.006955      0.077752  1.000000  0.028998   \n",
       "totChol          0.014783        -0.000923      0.147036  0.028998  1.000000   \n",
       "sysBP            0.040330         0.057000      0.696656  0.111265  0.196989   \n",
       "diaBP            0.026905         0.045153      0.615840  0.050260  0.153564   \n",
       "BMI             -0.005533         0.025354      0.292129  0.081077  0.126514   \n",
       "heartRate        0.004733        -0.017671      0.147978  0.049459  0.089632   \n",
       "glucose         -0.017797        -0.012393      0.000561  0.062889  0.089750   \n",
       "TenYearCHD       0.023458         0.061823      0.177458  0.097344  0.076507   \n",
       "\n",
       "                    sysBP     diaBP       BMI  heartRate   glucose  TenYearCHD  \n",
       "male            -0.035879  0.058199  0.112169  -0.115553 -0.073529    0.088374  \n",
       "age              0.394053  0.205586  0.140962  -0.012453  0.003438    0.225408  \n",
       "education       -0.017355  0.003028  0.026772  -0.027917 -0.010561    0.000118  \n",
       "currentSmoker   -0.130281 -0.107933 -0.173763   0.065809  0.011883    0.019448  \n",
       "cigsPerDay      -0.099863 -0.069638 -0.117987   0.080362  0.000121    0.043111  \n",
       "BPMeds           0.040330  0.026905 -0.005533   0.004733 -0.017797    0.023458  \n",
       "prevalentStroke  0.057000  0.045153  0.025354  -0.017671 -0.012393    0.061823  \n",
       "prevalentHyp     0.696656  0.615840  0.292129   0.147978  0.000561    0.177458  \n",
       "diabetes         0.111265  0.050260  0.081077   0.049459  0.062889    0.097344  \n",
       "totChol          0.196989  0.153564  0.126514   0.089632  0.089750    0.076507  \n",
       "sysBP            1.000000  0.783952  0.309051   0.183667  0.004851    0.216374  \n",
       "diaBP            0.783952  1.000000  0.361721   0.181874 -0.001176    0.145112  \n",
       "BMI              0.309051  0.361721  1.000000   0.059147  0.008083    0.083591  \n",
       "heartRate        0.183667  0.181874  0.059147   1.000000  0.065053    0.025234  \n",
       "glucose          0.004851 -0.001176  0.008083   0.065053  1.000000    0.008033  \n",
       "TenYearCHD       0.216374  0.145112  0.083591   0.025234  0.008033    1.000000  "
      ]
     },
     "execution_count": 77,
     "metadata": {},
     "output_type": "execute_result"
    }
   ],
   "source": [
    "data.corr()"
   ]
  },
  {
   "cell_type": "code",
   "execution_count": 78,
   "metadata": {},
   "outputs": [
    {
     "data": {
      "text/plain": [
       "<matplotlib.axes._subplots.AxesSubplot at 0x1dfc19e7248>"
      ]
     },
     "execution_count": 78,
     "metadata": {},
     "output_type": "execute_result"
    },
    {
     "data": {
      "image/png": "[encoded data removed]",
      "text/plain": [
       "<Figure size 720x720 with 2 Axes>"
      ]
     },
     "metadata": {
      "needs_background": "light"
     },
     "output_type": "display_data"
    }
   ],
   "source": [
    "plt.figure(figsize=(10,10))\n",
    "sns.heatmap(data)"
   ]
  },
  {
   "cell_type": "markdown",
   "metadata": {},
   "source": [
    "- This Dataset is related to heart disease.\n",
    "- Target Column - Ten Year CHD\n",
    "- Using the independent features predict whether a person gets the disease or not.\n",
    "- Apply SVM and also all the discussed models as of now.\n",
    "- Apply analysis and preprocessing of the data."
   ]
  },
  {
   "cell_type": "code",
   "execution_count": 79,
   "metadata": {},
   "outputs": [
    {
     "data": {
      "text/plain": [
       "Index(['male', 'age', 'education', 'currentSmoker', 'cigsPerDay', 'BPMeds',\n",
       "       'prevalentStroke', 'prevalentHyp', 'diabetes', 'totChol', 'sysBP',\n",
       "       'diaBP', 'BMI', 'heartRate', 'glucose', 'TenYearCHD'],\n",
       "      dtype='object')"
      ]
     },
     "execution_count": 79,
     "metadata": {},
     "output_type": "execute_result"
    }
   ],
   "source": [
    "data.keys()"
   ]
  },
  {
   "cell_type": "code",
   "execution_count": 80,
   "metadata": {},
   "outputs": [],
   "source": [
    "# Extracting Feature and target\n",
    "X=data.drop(columns=['TenYearCHD'])\n",
    "y=data['TenYearCHD']"
   ]
  },
  {
   "cell_type": "code",
   "execution_count": 81,
   "metadata": {},
   "outputs": [
    {
     "data": {
      "text/plain": [
       "((4240, 15), (4240,))"
      ]
     },
     "execution_count": 81,
     "metadata": {},
     "output_type": "execute_result"
    }
   ],
   "source": [
    "X.shape,y.shape"
   ]
  },
  {
   "cell_type": "code",
   "execution_count": 82,
   "metadata": {},
   "outputs": [],
   "source": [
    "from imblearn.over_sampling import SMOTE"
   ]
  },
  {
   "cell_type": "code",
   "execution_count": 84,
   "metadata": {},
   "outputs": [],
   "source": [
    "x_resample,y_resample=SMOTE(k_neighbors=5).fit_resample(X,y)"
   ]
  },
  {
   "cell_type": "code",
   "execution_count": 85,
   "metadata": {},
   "outputs": [
    {
     "data": {
      "text/plain": [
       "1    3596\n",
       "0    3596\n",
       "Name: TenYearCHD, dtype: int64"
      ]
     },
     "execution_count": 85,
     "metadata": {},
     "output_type": "execute_result"
    }
   ],
   "source": [
    "pd.Series(y_resample).value_counts()"
   ]
  },
  {
   "cell_type": "markdown",
   "metadata": {},
   "source": [
    "# split the dataset into train and test 20%"
   ]
  },
  {
   "cell_type": "code",
   "execution_count": 87,
   "metadata": {},
   "outputs": [
    {
     "data": {
      "text/plain": [
       "((5753, 15), (1439, 15), (5753,), (1439,))"
      ]
     },
     "execution_count": 87,
     "metadata": {},
     "output_type": "execute_result"
    }
   ],
   "source": [
    "\n",
    "from sklearn.model_selection import train_test_split\n",
    "\n",
    "X_train,X_test,y_train,y_test=train_test_split(x_resample,y_resample,test_size=0.20,random_state=5)\n",
    "X_train.shape,X_test.shape,y_train.shape,y_test.shape"
   ]
  },
  {
   "cell_type": "markdown",
   "metadata": {},
   "source": [
    "# Logistic Regression"
   ]
  },
  {
   "cell_type": "code",
   "execution_count": 88,
   "metadata": {},
   "outputs": [],
   "source": [
    "from sklearn.linear_model import LogisticRegression\n",
    "from sklearn.metrics import accuracy_score,roc_auc_score,roc_curve"
   ]
  },
  {
   "cell_type": "code",
   "execution_count": 89,
   "metadata": {},
   "outputs": [],
   "source": [
    "Lor=LogisticRegression()"
   ]
  },
  {
   "cell_type": "code",
   "execution_count": 90,
   "metadata": {},
   "outputs": [
    {
     "data": {
      "text/plain": [
       "LogisticRegression()"
      ]
     },
     "execution_count": 90,
     "metadata": {},
     "output_type": "execute_result"
    }
   ],
   "source": [
    "Lor.fit(X_train,y_train)"
   ]
  },
  {
   "cell_type": "code",
   "execution_count": 91,
   "metadata": {},
   "outputs": [],
   "source": [
    "y_pred_train=Lor.predict(X_train)\n",
    "y_pred_test=Lor.predict(X_test)"
   ]
  },
  {
   "cell_type": "code",
   "execution_count": 92,
   "metadata": {},
   "outputs": [
    {
     "name": "stdout",
     "output_type": "stream",
     "text": [
      "0.6420997740309404\n",
      "0.6275191104933981\n"
     ]
    }
   ],
   "source": [
    "print(accuracy_score(y_train,y_pred_train))\n",
    "print(accuracy_score(y_test,y_pred_test))\n"
   ]
  },
  {
   "cell_type": "markdown",
   "metadata": {},
   "source": [
    "### ROC and AUC for Training data\n"
   ]
  },
  {
   "cell_type": "code",
   "execution_count": 93,
   "metadata": {},
   "outputs": [],
   "source": [
    "from sklearn.metrics import roc_curve,auc"
   ]
  },
  {
   "cell_type": "code",
   "execution_count": 94,
   "metadata": {},
   "outputs": [],
   "source": [
    "y_pred_train_prob=Lor.predict_proba(X_train)\n",
    "y_pred_train_prob_1=y_pred_train_prob[:,1]"
   ]
  },
  {
   "cell_type": "code",
   "execution_count": 95,
   "metadata": {},
   "outputs": [],
   "source": [
    "fpr,tpr,thresh=roc_curve(y_train,y_pred_train_prob_1)"
   ]
  },
  {
   "cell_type": "code",
   "execution_count": 96,
   "metadata": {},
   "outputs": [
    {
     "data": {
      "image/png": "[encoded data removed]",
      "text/plain": [
       "<Figure size 720x288 with 1 Axes>"
      ]
     },
     "metadata": {
      "needs_background": "light"
     },
     "output_type": "display_data"
    }
   ],
   "source": [
    "plt.figure(figsize=(10,4))\n",
    "plt.plot(fpr,tpr,'r--')\n",
    "plt.plot([0,1],[0,1],'b--')\n",
    "for i in range(len(thresh)):\n",
    "    if i%50==1:\n",
    "        plt.plot(fpr[i],tpr[i],'v')\n",
    "        plt.text(fpr[i],tpr[i],'%0.2f'%thresh[i])\n",
    "        \n",
    "plt.xlabel('False Possitve rate')\n",
    "plt.ylabel('True Possitve rate')\n",
    "plt.title('Reciever Operating characteristics')\n",
    "area=auc(fpr,tpr)\n",
    "plt.legend(['AUC=\"%0.4f\"'%area])\n",
    "plt.grid()\n",
    "plt.show()"
   ]
  },
  {
   "cell_type": "markdown",
   "metadata": {},
   "source": [
    "# Random Forest Classifier"
   ]
  },
  {
   "cell_type": "code",
   "execution_count": 97,
   "metadata": {},
   "outputs": [],
   "source": [
    "from sklearn.ensemble import RandomForestClassifier"
   ]
  },
  {
   "cell_type": "code",
   "execution_count": 98,
   "metadata": {},
   "outputs": [],
   "source": [
    "from sklearn.metrics import accuracy_score,roc_auc_score,roc_curve"
   ]
  },
  {
   "cell_type": "code",
   "execution_count": 99,
   "metadata": {},
   "outputs": [],
   "source": [
    "RFC=RandomForestClassifier()"
   ]
  },
  {
   "cell_type": "code",
   "execution_count": 100,
   "metadata": {},
   "outputs": [
    {
     "data": {
      "text/plain": [
       "RandomForestClassifier()"
      ]
     },
     "execution_count": 100,
     "metadata": {},
     "output_type": "execute_result"
    }
   ],
   "source": [
    "RFC.fit(X_train,y_train)"
   ]
  },
  {
   "cell_type": "code",
   "execution_count": 101,
   "metadata": {},
   "outputs": [],
   "source": [
    "y_pred_train=RFC.predict(X_train)\n",
    "y_pred_test=RFC.predict(X_test)"
   ]
  },
  {
   "cell_type": "code",
   "execution_count": 102,
   "metadata": {},
   "outputs": [
    {
     "name": "stdout",
     "output_type": "stream",
     "text": [
      "-- Accuracy Score --\n",
      "1.0\n",
      "0.8637943015983321\n"
     ]
    }
   ],
   "source": [
    "print('-- Accuracy Score --')\n",
    "print(accuracy_score(y_train,y_pred_train))\n",
    "print(accuracy_score(y_test,y_pred_test))"
   ]
  },
  {
   "cell_type": "code",
   "execution_count": 103,
   "metadata": {},
   "outputs": [
    {
     "name": "stdout",
     "output_type": "stream",
     "text": [
      "-- ROC_AUC Score --\n",
      "1.0\n",
      "0.8641487213997308\n"
     ]
    }
   ],
   "source": [
    "print('-- ROC_AUC Score --')\n",
    "print(roc_auc_score(y_train,y_pred_train))\n",
    "print(roc_auc_score(y_test,y_pred_test))"
   ]
  },
  {
   "cell_type": "markdown",
   "metadata": {},
   "source": [
    "### ROC and AUC for Training data\n"
   ]
  },
  {
   "cell_type": "code",
   "execution_count": 104,
   "metadata": {},
   "outputs": [],
   "source": [
    "from sklearn.metrics import roc_curve,auc"
   ]
  },
  {
   "cell_type": "code",
   "execution_count": 105,
   "metadata": {},
   "outputs": [],
   "source": [
    "y_pred_train_prob=RFC.predict_proba(X_train)\n",
    "y_pred_train_prob_1=y_pred_train_prob[:,1]"
   ]
  },
  {
   "cell_type": "code",
   "execution_count": 106,
   "metadata": {},
   "outputs": [],
   "source": [
    "fpr,tpr,thresh=roc_curve(y_train,y_pred_train_prob_1)"
   ]
  },
  {
   "cell_type": "code",
   "execution_count": 107,
   "metadata": {},
   "outputs": [
    {
     "data": {
      "image/png": "[encoded data removed]",
      "text/plain": [
       "<Figure size 720x288 with 1 Axes>"
      ]
     },
     "metadata": {
      "needs_background": "light"
     },
     "output_type": "display_data"
    }
   ],
   "source": [
    "plt.figure(figsize=(10,4))\n",
    "plt.plot(fpr,tpr,'r--')\n",
    "plt.plot([0,1],[0,1],'b--')\n",
    "for i in range(len(thresh)):\n",
    "    if i%50==1:\n",
    "        plt.plot(fpr[i],tpr[i],'v')\n",
    "        plt.text(fpr[i],tpr[i],'%0.2f'%thresh[i])\n",
    "        \n",
    "plt.xlabel('False Possitve rate')\n",
    "plt.ylabel('True Possitve rate')\n",
    "plt.title('Reciever Operating characteristics')\n",
    "area=auc(fpr,tpr)\n",
    "plt.legend(['AUC=\"%0.4f\"'%area])\n",
    "plt.grid()\n",
    "plt.show()"
   ]
  },
  {
   "cell_type": "markdown",
   "metadata": {},
   "source": [
    "# Support Vector Machine Classifier"
   ]
  },
  {
   "cell_type": "code",
   "execution_count": 108,
   "metadata": {},
   "outputs": [],
   "source": [
    "from sklearn.svm import SVC"
   ]
  },
  {
   "cell_type": "code",
   "execution_count": 109,
   "metadata": {},
   "outputs": [],
   "source": [
    "svc=SVC()"
   ]
  },
  {
   "cell_type": "code",
   "execution_count": 110,
   "metadata": {},
   "outputs": [
    {
     "data": {
      "text/plain": [
       "SVC()"
      ]
     },
     "execution_count": 110,
     "metadata": {},
     "output_type": "execute_result"
    }
   ],
   "source": [
    "svc.fit(X_train,y_train)"
   ]
  },
  {
   "cell_type": "code",
   "execution_count": 111,
   "metadata": {},
   "outputs": [],
   "source": [
    "y_train_pred=svc.predict(X_train)\n",
    "y_test_pred=svc.predict(X_test)"
   ]
  },
  {
   "cell_type": "code",
   "execution_count": 112,
   "metadata": {},
   "outputs": [
    {
     "name": "stdout",
     "output_type": "stream",
     "text": [
      "-- Accuracy Score --\n",
      "0.6226316704328176\n",
      "0.5983321751216122\n"
     ]
    }
   ],
   "source": [
    "print('-- Accuracy Score --')\n",
    "print(accuracy_score(y_train,y_train_pred))\n",
    "print(accuracy_score(y_test,y_test_pred))"
   ]
  },
  {
   "cell_type": "code",
   "execution_count": 113,
   "metadata": {},
   "outputs": [
    {
     "name": "stdout",
     "output_type": "stream",
     "text": [
      "-- ROC_AUC_SCORE --\n",
      "0.6221619710649409\n",
      "0.599857288717687\n"
     ]
    }
   ],
   "source": [
    "print('-- ROC_AUC_SCORE --')\n",
    "print(roc_auc_score(y_train,y_train_pred))\n",
    "print(roc_auc_score(y_test,y_test_pred))"
   ]
  },
  {
   "cell_type": "markdown",
   "metadata": {},
   "source": [
    "# KNN "
   ]
  },
  {
   "cell_type": "code",
   "execution_count": 114,
   "metadata": {},
   "outputs": [],
   "source": [
    "from sklearn.neighbors import KNeighborsClassifier"
   ]
  },
  {
   "cell_type": "code",
   "execution_count": 115,
   "metadata": {},
   "outputs": [],
   "source": [
    "knn=KNeighborsClassifier()"
   ]
  },
  {
   "cell_type": "code",
   "execution_count": 116,
   "metadata": {},
   "outputs": [
    {
     "data": {
      "text/plain": [
       "KNeighborsClassifier()"
      ]
     },
     "execution_count": 116,
     "metadata": {},
     "output_type": "execute_result"
    }
   ],
   "source": [
    "knn.fit(X_train,y_train)"
   ]
  },
  {
   "cell_type": "code",
   "execution_count": 117,
   "metadata": {},
   "outputs": [],
   "source": [
    "y_train_pred=knn.predict(X_train)\n",
    "y_test_pred=knn.predict(X_test)"
   ]
  },
  {
   "cell_type": "code",
   "execution_count": 118,
   "metadata": {},
   "outputs": [
    {
     "name": "stdout",
     "output_type": "stream",
     "text": [
      "-- Accuracy Score --\n",
      "0.8638970971666956\n",
      "0.8088950660180682\n"
     ]
    }
   ],
   "source": [
    "print('-- Accuracy Score --')\n",
    "print(accuracy_score(y_train,y_train_pred))\n",
    "print(accuracy_score(y_test,y_test_pred))"
   ]
  },
  {
   "cell_type": "code",
   "execution_count": 119,
   "metadata": {},
   "outputs": [
    {
     "name": "stdout",
     "output_type": "stream",
     "text": [
      "-- ROC_AUC Score --\n",
      "0.8648324208032683\n",
      "0.8039421574542474\n"
     ]
    }
   ],
   "source": [
    "print('-- ROC_AUC Score --')\n",
    "print(roc_auc_score(y_train,y_train_pred))\n",
    "print(roc_auc_score(y_test,y_test_pred))"
   ]
  },
  {
   "cell_type": "markdown",
   "metadata": {},
   "source": [
    "# Gradient Boosting classifier"
   ]
  },
  {
   "cell_type": "code",
   "execution_count": 120,
   "metadata": {},
   "outputs": [],
   "source": [
    "from sklearn.ensemble import GradientBoostingClassifier"
   ]
  },
  {
   "cell_type": "code",
   "execution_count": 121,
   "metadata": {},
   "outputs": [],
   "source": [
    "GRB=GradientBoostingClassifier()"
   ]
  },
  {
   "cell_type": "code",
   "execution_count": 122,
   "metadata": {},
   "outputs": [
    {
     "data": {
      "text/plain": [
       "GradientBoostingClassifier()"
      ]
     },
     "execution_count": 122,
     "metadata": {},
     "output_type": "execute_result"
    }
   ],
   "source": [
    "GRB.fit(X_train,y_train)"
   ]
  },
  {
   "cell_type": "code",
   "execution_count": 123,
   "metadata": {},
   "outputs": [],
   "source": [
    "y_train_pred=GRB.predict(X_train)\n",
    "y_test_pred=GRB.predict(X_test)"
   ]
  },
  {
   "cell_type": "code",
   "execution_count": 124,
   "metadata": {},
   "outputs": [
    {
     "name": "stdout",
     "output_type": "stream",
     "text": [
      "-- Accuracy Score --\n",
      "0.8098383452111941\n",
      "0.7658095899930507\n"
     ]
    }
   ],
   "source": [
    "print('-- Accuracy Score --')\n",
    "print(accuracy_score(y_train,y_train_pred))\n",
    "print(accuracy_score(y_test,y_test_pred))"
   ]
  },
  {
   "cell_type": "code",
   "execution_count": 125,
   "metadata": {},
   "outputs": [
    {
     "name": "stdout",
     "output_type": "stream",
     "text": [
      "-- ROC_AUC Score --\n",
      "0.8097035183775095\n",
      "0.767036401045776\n"
     ]
    }
   ],
   "source": [
    "print('-- ROC_AUC Score --')\n",
    "print(roc_auc_score(y_train,y_train_pred))\n",
    "print(roc_auc_score(y_test,y_test_pred))"
   ]
  },
  {
   "cell_type": "markdown",
   "metadata": {},
   "source": [
    "# Naivye Bayes"
   ]
  },
  {
   "cell_type": "code",
   "execution_count": 126,
   "metadata": {},
   "outputs": [],
   "source": [
    "from sklearn.naive_bayes import GaussianNB"
   ]
  },
  {
   "cell_type": "code",
   "execution_count": 127,
   "metadata": {},
   "outputs": [],
   "source": [
    "GN=GaussianNB()"
   ]
  },
  {
   "cell_type": "code",
   "execution_count": 128,
   "metadata": {},
   "outputs": [
    {
     "data": {
      "text/plain": [
       "GaussianNB()"
      ]
     },
     "execution_count": 128,
     "metadata": {},
     "output_type": "execute_result"
    }
   ],
   "source": [
    "GN.fit(X_train,y_train)"
   ]
  },
  {
   "cell_type": "code",
   "execution_count": 129,
   "metadata": {},
   "outputs": [],
   "source": [
    "y_train_pred=GN.predict(X_train)\n",
    "y_test_pred=GN.predict(X_test)"
   ]
  },
  {
   "cell_type": "code",
   "execution_count": 130,
   "metadata": {},
   "outputs": [
    {
     "name": "stdout",
     "output_type": "stream",
     "text": [
      "-- Accuracy Score --\n",
      "0.645402398748479\n",
      "0.6386379430159833\n"
     ]
    }
   ],
   "source": [
    "print('-- Accuracy Score --')\n",
    "print(accuracy_score(y_train,y_train_pred))\n",
    "print(accuracy_score(y_test,y_test_pred))"
   ]
  },
  {
   "cell_type": "code",
   "execution_count": 131,
   "metadata": {},
   "outputs": [
    {
     "name": "stdout",
     "output_type": "stream",
     "text": [
      "-- ROC_AUC Score --\n",
      "0.6454412173513664\n",
      "0.6383883680636129\n"
     ]
    }
   ],
   "source": [
    "print('-- ROC_AUC Score --')\n",
    "print(roc_auc_score(y_train,y_train_pred))\n",
    "print(roc_auc_score(y_test,y_test_pred))"
   ]
  },
  {
   "cell_type": "code",
   "execution_count": null,
   "metadata": {},
   "outputs": [],
   "source": []
  },
  {
   "cell_type": "code",
   "execution_count": null,
   "metadata": {},
   "outputs": [],
   "source": []
  },
  {
   "cell_type": "code",
   "execution_count": null,
   "metadata": {},
   "outputs": [],
   "source": []
  }
 ],
 "metadata": {
  "kernelspec": {
   "display_name": "Python 3",
   "language": "python",
   "name": "python3"
  },
  "language_info": {
   "codemirror_mode": {
    "name": "ipython",
    "version": 3
   },
   "file_extension": ".py",
   "mimetype": "text/x-python",
   "name": "python",
   "nbconvert_exporter": "python",
   "pygments_lexer": "ipython3",
   "version": "3.6.10"
  }
 },
 "nbformat": 4,
 "nbformat_minor": 2
}
